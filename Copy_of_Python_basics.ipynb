{
  "nbformat": 4,
  "nbformat_minor": 0,
  "metadata": {
    "colab": {
      "provenance": []
    },
    "kernelspec": {
      "name": "python3",
      "display_name": "Python 3"
    },
    "language_info": {
      "name": "python"
    }
  },
  "cells": [
    {
      "cell_type": "code",
      "execution_count": null,
      "metadata": {
        "colab": {
          "base_uri": "https://localhost:8080/"
        },
        "id": "d2LVQXhFuCQ8",
        "outputId": "2c511e58-9eaa-4b01-abfa-0c3d2c582f7f"
      },
      "outputs": [
        {
          "output_type": "stream",
          "name": "stdout",
          "text": [
            "Hello world\n"
          ]
        }
      ],
      "source": [
        "print(\"Hello world\")"
      ]
    },
    {
      "cell_type": "code",
      "source": [],
      "metadata": {
        "id": "kJW-n8rSuses"
      },
      "execution_count": null,
      "outputs": []
    },
    {
      "cell_type": "markdown",
      "source": [
        "1 Explain the key features of python that make it a popular choice for programming?\n",
        "\n",
        "Python is a popular choice for programmimg due to its many features:\n",
        "\n",
        " Easy to learn- python is easier to learn as compared to other programming languages such as C,C++,JAVA etc.It has simple structure and easy key features to use.\n",
        "\n",
        " Open source and free- python is easily available and free to use because it is developed under open source license.\n",
        "\n",
        " Interpreted- python is interpreted because source code is executed line by line.\n",
        "\n",
        " Portable- python code can be used on different machines without any change.\n",
        "\n",
        " widely used- python is widely used in different industries and having different types of libraries such as googlecollab, pycharm, jupyter etc."
      ],
      "metadata": {
        "id": "kEnS2ZXtzIfO"
      }
    },
    {
      "cell_type": "markdown",
      "source": [
        "2 Describe the role of predefined keywords in python and provide example of how they are used in program?\n",
        "\n",
        "Keywords are predefined,reserve words used in python programming language that have special meaning to the compiler. we can not use keyword as variable name.\n",
        "keyword can specify the type of entity, all keywords except 'Ture','False'and 'None' start in lowercase letters.Some keywords are:\n",
        "\n",
        "and- a logical operator,\n",
        "assert- for debugging,\n",
        "def- to define a function,\n",
        "class- to define a class,\n",
        "break- to break out of loop,\n",
        "del- to delete object,\n",
        "\n",
        "True,False,None are value keywords.\n",
        "return,yield are returning keywords.\n",
        "\n",
        "\n",
        "\n"
      ],
      "metadata": {
        "id": "PhiGTukJ3V7A"
      }
    },
    {
      "cell_type": "code",
      "source": [],
      "metadata": {
        "id": "ghGVtNnKUjQn"
      },
      "execution_count": null,
      "outputs": []
    },
    {
      "cell_type": "markdown",
      "source": [
        "3 Compare and contrast mutable and immutable objects in python with example.\n",
        "\n",
        "Mutable- objects are those that allow you to change their value or data in place without affecting the object's identity. eg. lists, arrays, set\n",
        "\n",
        "Immutable- objects is immutable when its state does not change after it has been initialized. eg string, bytes,tuples.Immutable objects are faster than mutable objects.\n",
        "\n"
      ],
      "metadata": {
        "id": "Mahb1xJG-T4g"
      }
    },
    {
      "cell_type": "code",
      "source": [
        "mylist=[\"One\",1,False,'c']\n",
        "mylist.pop()\n",
        "print(mylist)\n",
        "mylist.append(True)\n",
        "print(mylist)\n",
        "mylist[0]=2\n",
        "print(mylist)"
      ],
      "metadata": {
        "colab": {
          "base_uri": "https://localhost:8080/"
        },
        "id": "0XEh4oAABhKN",
        "outputId": "47973240-df06-4314-f36b-bf5720637c78"
      },
      "execution_count": null,
      "outputs": [
        {
          "output_type": "stream",
          "name": "stdout",
          "text": [
            "['One', 1, False]\n",
            "['One', 1, False, True]\n",
            "[2, 1, False, True]\n"
          ]
        }
      ]
    },
    {
      "cell_type": "markdown",
      "source": [
        "4 Discuss different types of operators in python and provide example  of how they are used.\n",
        "\n",
        "Arithmetic operators: these are used for performing operations like addition,subtraction,multiplication,division and modulus.\n",
        "\n",
        "Comparison operators: these used for comparing values, such as greater than or equal to operators(>=)\n",
        "\n",
        "Assignment operators: used for assigning values, such as balance +=10, which is equivalent to balance=balance+10\n",
        "\n",
        "Logical operators: used for logical operations and used to combine conditional statements.\n",
        "Bitwise operators: used for bitwise operations, manipulate individual bits in one or more bit patterns or binary numbers.\n",
        "Membership operators: used for membership operators, check whether a value or variable exists in a sequence.\n",
        "\n"
      ],
      "metadata": {
        "id": "-jCMKPkCDBeG"
      }
    },
    {
      "cell_type": "code",
      "source": [
        "# assignment operators\n",
        "\n",
        "a=0\n",
        "b=10\n",
        "a+=b #a=a+b\n",
        "print(a)\n",
        "a-=b #a=a-b\n",
        "print(a)"
      ],
      "metadata": {
        "colab": {
          "base_uri": "https://localhost:8080/"
        },
        "id": "zBhVFiQ6GW1z",
        "outputId": "d0b10687-4f87-4471-8a7a-f70a24913a06"
      },
      "execution_count": null,
      "outputs": [
        {
          "output_type": "stream",
          "name": "stdout",
          "text": [
            "10\n",
            "0\n"
          ]
        }
      ]
    },
    {
      "cell_type": "markdown",
      "source": [
        "5 Explain the concept of type casting in python with example.\n",
        "\n",
        "Type casting is a process of converting one variable's data type to another data type, it is also called as  type conversion.\n",
        "type casting is important for ensuring compatibility between different data type and making python code more versatile. for example, computers can not add strings and floats together, we can use type casting to convert valuse to different data type. There are two type of data casting;\n",
        "\n",
        "Implicit: automatically interpreted conversions.for example: whwn adding an integer to a float python automatically convert the integer to the float. it is understandable datatype by python.\n",
        "\n",
        "Explicit: use predefined python functions to convert an objects data type, it will convert the data type by using inbuilt functions in python. for example, we can use int(),float(),Str(), functions to convert dtata type into integer float and string type.\n"
      ],
      "metadata": {
        "id": "sfE_nGNzHP1J"
      }
    },
    {
      "cell_type": "code",
      "source": [
        "a=7+9.2\n",
        "print(a)\n"
      ],
      "metadata": {
        "colab": {
          "base_uri": "https://localhost:8080/"
        },
        "id": "OVJV3xLsMQ-I",
        "outputId": "947975f2-2fa0-4e55-a3e3-3e7b64828323"
      },
      "execution_count": null,
      "outputs": [
        {
          "output_type": "stream",
          "name": "stdout",
          "text": [
            "16.2\n"
          ]
        }
      ]
    },
    {
      "cell_type": "code",
      "source": [
        "print(type(a))"
      ],
      "metadata": {
        "colab": {
          "base_uri": "https://localhost:8080/"
        },
        "id": "ri49EnjCMbRB",
        "outputId": "dca936fc-dda1-407d-c532-6074d59b4bac"
      },
      "execution_count": null,
      "outputs": [
        {
          "output_type": "stream",
          "name": "stdout",
          "text": [
            "<class 'float'>\n"
          ]
        }
      ]
    },
    {
      "cell_type": "markdown",
      "source": [
        "6 How do conditional statements work in python?Illustrate with example.\n",
        "\n",
        "The conditional statements are used to handle conditions in program.These statements guide the program while making decisions on the given statements.\n",
        "There are different types of conditional statements used in program:\n",
        "if\n",
        "if-else\n",
        "if-elif-else\n",
        "nested if-else"
      ],
      "metadata": {
        "id": "f6dg0OZdMtou"
      }
    },
    {
      "cell_type": "code",
      "source": [
        "# if statement\n",
        "\n",
        "a=10\n",
        "b=20\n",
        "if a==b:\n",
        "  print('yes')\n",
        "else:\n",
        "  print('no')"
      ],
      "metadata": {
        "colab": {
          "base_uri": "https://localhost:8080/"
        },
        "id": "dSVRMk8BPTmd",
        "outputId": "c494ee6c-e852-4cd5-8a41-c7fa36251af9"
      },
      "execution_count": null,
      "outputs": [
        {
          "output_type": "stream",
          "name": "stdout",
          "text": [
            "no\n"
          ]
        }
      ]
    },
    {
      "cell_type": "code",
      "source": [
        "# if-elif-else statement\n",
        "\n",
        "a = -2\n",
        "if a==5:\n",
        "  print(\"a is 5\")\n",
        "elif a < 5:\n",
        "  print(\"a is less than 5\")\n",
        "else:\n",
        "  print(\"a is greater than 5\")\n",
        "print(\"Done!\")"
      ],
      "metadata": {
        "colab": {
          "base_uri": "https://localhost:8080/"
        },
        "id": "uh5Q_8mzQq8I",
        "outputId": "0c015b65-aed7-4ace-903c-410c0b4d84ee"
      },
      "execution_count": null,
      "outputs": [
        {
          "output_type": "stream",
          "name": "stdout",
          "text": [
            "a is less than 5\n",
            "Done!\n"
          ]
        }
      ]
    },
    {
      "cell_type": "markdown",
      "source": [
        "7 Describe the different types of loops in python and their user cases with example.\n",
        "\n",
        "Loops are sets of instructuins thar are repeated until a condition is true, it will repeat a portion of code a set number of times until the desired process is complete.\n",
        "\n",
        "For loop: a loop in python is used to iterate over a sequence (list,tuple,set,dictionary and string).\n",
        "\n",
        "While loop: the while loop is used to execute a set of statements as long as a condition is true."
      ],
      "metadata": {
        "id": "urbo0VCsRhf4"
      }
    },
    {
      "cell_type": "code",
      "source": [
        "# for loop\n",
        "\n",
        "for i in range (20):\n",
        "  if i == 10:\n",
        "    break\n",
        "  print(i)"
      ],
      "metadata": {
        "colab": {
          "base_uri": "https://localhost:8080/"
        },
        "id": "r-B7rHviTcIK",
        "outputId": "81b284f8-1411-4f62-f367-18a71bfebb0f"
      },
      "execution_count": null,
      "outputs": [
        {
          "output_type": "stream",
          "name": "stdout",
          "text": [
            "0\n",
            "1\n",
            "2\n",
            "3\n",
            "4\n",
            "5\n",
            "6\n",
            "7\n",
            "8\n",
            "9\n"
          ]
        }
      ]
    },
    {
      "cell_type": "code",
      "source": [],
      "metadata": {
        "id": "-fJ0qdI2UStL"
      },
      "execution_count": null,
      "outputs": []
    }
  ]
}